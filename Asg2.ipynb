{
  "cells": [
    {
      "cell_type": "markdown",
      "metadata": {
        "id": "3hesxbiiwPCU"
      },
      "source": [
        "Creating environment"
      ]
    },
    {
      "cell_type": "code",
      "execution_count": null,
      "metadata": {
        "id": "DlWbcsCUv97D"
      },
      "outputs": [],
      "source": [
        "import numpy as np\n",
        "import pandas as pd\n",
        "from pandas import DataFrame as df\n",
        "from sklearn.ensemble import RandomForestRegressor, RandomForestClassifier\n",
        "from sklearn.metrics import accuracy_score\n",
        "from sklearn.metrics import ndcg_score # this is the scorer used by Kaggle to score the performance of our results\n",
        "import matplotlib.pyplot as plt\n",
        "import matplotlib.ticker as ticker\n",
        "import warnings\n",
        "warnings.filterwarnings('ignore')\n",
        "import io\n",
        "from sklearn.model_selection import train_test_split, RandomizedSearchCV"
      ]
    },
    {
      "cell_type": "code",
      "execution_count": null,
      "metadata": {
        "colab": {
          "base_uri": "https://localhost:8080/"
        },
        "id": "I3KDzNN3wL_W",
        "outputId": "0cdeed2e-3b62-4077-ee4d-e3a13310b97e"
      },
      "outputs": [
        {
          "output_type": "stream",
          "name": "stdout",
          "text": [
            "Drive already mounted at /content/drive; to attempt to forcibly remount, call drive.mount(\"/content/drive\", force_remount=True).\n"
          ]
        }
      ],
      "source": [
        "from google.colab import drive\n",
        "drive.mount('/content/drive')"
      ]
    },
    {
      "cell_type": "code",
      "execution_count": null,
      "metadata": {
        "id": "nE4W6IbvZ2Im"
      },
      "outputs": [],
      "source": [
        "#train = pd.read_csv('/content/drive/MyDrive/Colab Notebooks/DM/Assignment 2/training_set_VU_DM.csv')\n",
        "train = pd.read_csv('/content/drive/MyDrive/Colab Notebooks/DM/Assignment 2/sample_train_data.csv')\n",
        "test = pd.read_csv('/content/drive/MyDrive/Colab Notebooks/DM/Assignment 2/test_set_VU_DM.csv')"
      ]
    },
    {
      "cell_type": "markdown",
      "metadata": {
        "id": "rDBMyYkNU2dk"
      },
      "source": [
        "Feature engineering"
      ]
    },
    {
      "cell_type": "code",
      "execution_count": null,
      "metadata": {
        "id": "66q7h71hU5pP"
      },
      "outputs": [],
      "source": [
        "def nanrate(train, valname):\n",
        "    ## train, the dataset name\n",
        "    ## valname, the feature name to study\n",
        "    train[valname + \"_na\"] = pd.isnull(train[valname])\n",
        "    book_rate=[]\n",
        "    click_rate=[]\n",
        "    c_summary=[]\n",
        "    b_summary=[]\n",
        "    cond = []\n",
        "    for i, gb in train.groupby(valname+\"_na\"):\n",
        "        if i:\n",
        "            cond.append(1)\n",
        "        else:\n",
        "            cond.append(0)\n",
        "        book_rate.append(gb[\"booking_bool\"].mean())\n",
        "        click_rate.append(gb[\"click_bool\"].mean())\n",
        "        c_summary.append(gb[\"click_bool\"].describe())\n",
        "        b_summary.append(gb[\"booking_bool\"].describe())\n",
        "    df = pd.DataFrame(np.array([cond, click_rate, book_rate]), index=[\"Condition\",\"Click Rate\", \"Book Rate\"])\n",
        "    df = df.transpose()\n",
        "    #print(df)\n",
        "    df.plot( x=\"Condition\",kind=\"bar\")\n",
        "    locs, labels = plt.xticks()\n",
        "    plt.xticks(locs, [\"Not NULL\", \"NULL\"], size='small', rotation='horizontal')\n",
        "    plt.title(\"Click and booking rate of non-NA samples and Null features, wrt:\"+valname)\n",
        "    plt.show()\n",
        "    \n",
        "def ratedist(train, name, steps, navalue):\n",
        "    ## train, dataset name\n",
        "    ## name, the feature name\n",
        "    ## steps, the interval size we are going to split the feature data with\n",
        "    ## navalue, a special value for the na samples, can be -1, or -100\n",
        "    print(\"Here the NULL values are classed as \"+str(navalue))\n",
        "    train[name+\"_step\"] = np.round(train[name]/steps)\n",
        "    train[name+\"_step\"][pd.isnull(train[name])] = navalue\n",
        "    rate_list = []\n",
        "    c_per_list = []\n",
        "    b_per_list = []\n",
        "    for rate, gp in train.groupby(name+\"_step\"):\n",
        "        rate_list.append(rate)\n",
        "        c_per_list.append(1.0*gp[\"click_bool\"].mean())\n",
        "        b_per_list.append(1.0*gp[\"booking_bool\"].mean())\n",
        "    df = pd.DataFrame(np.array([rate_list, c_per_list, b_per_list]), index=[\"levels\",\"c_per\", \"b_per\"])\n",
        "    df = df.transpose()\n",
        "    \n",
        "    df.plot(x=\"levels\", y=\"c_per\", kind=\"bar\")\n",
        "    plt.title(\"Click rate against \"+name)    \n",
        "    plt.show()\n",
        "    \n",
        "    df.plot(x=\"levels\", y=\"b_per\", kind=\"bar\")\n",
        "    plt.title(\"Booking rate against \"+name)\n",
        "    plt.show()"
      ]
    },
    {
      "cell_type": "code",
      "execution_count": null,
      "metadata": {
        "colab": {
          "base_uri": "https://localhost:8080/",
          "height": 879
        },
        "id": "WvvbeUTLZvg-",
        "outputId": "b4d136f3-eb0f-4a4a-f135-c2d0e7632146"
      },
      "outputs": [
        {
          "output_type": "display_data",
          "data": {
            "text/plain": [
              "<Figure size 432x288 with 1 Axes>"
            ],
            "image/png": "[encoded data removed]"
          },
          "metadata": {
            "needs_background": "light"
          }
        },
        {
          "output_type": "stream",
          "name": "stdout",
          "text": [
            "Here the NULL values are classed as -1\n"
          ]
        },
        {
          "output_type": "display_data",
          "data": {
            "text/plain": [
              "<Figure size 432x288 with 1 Axes>"
            ],
            "image/png": "[encoded data removed]"
          },
          "metadata": {
            "needs_background": "light"
          }
        },
        {
          "output_type": "display_data",
          "data": {
            "text/plain": [
              "<Figure size 432x288 with 1 Axes>"
            ],
            "image/png": "[encoded data removed]"
          },
          "metadata": {
            "needs_background": "light"
          }
        }
      ],
      "source": [
        "nanrate(train, 'visitor_hist_starrating')\n",
        "ratedist(train, 'visitor_hist_starrating', 1, -1)"
      ]
    },
    {
      "cell_type": "code",
      "execution_count": null,
      "metadata": {
        "id": "rWqaFyPccMGN"
      },
      "outputs": [],
      "source": [
        "feature_names = list(train.columns)\n",
        "features_to_remove = [\"click_bool\",\"booking_bool\",\"gross_bookings_usd\",\"date_time\",\"position\", \"srch_id\", \"date_time\", \"site_id\", \"random_bool\"]\n",
        "for feature in features_to_remove:\n",
        "    try:\n",
        "        feature_names.remove(feature)\n",
        "    except:\n",
        "        pass\n",
        "feature_names"
      ]
    },
    {
      "cell_type": "code",
      "execution_count": null,
      "metadata": {
        "id": "Hnq1e3_PcOJe"
      },
      "outputs": [],
      "source": [
        "a = []\n",
        "b = []\n",
        "for feature in feature_names:\n",
        "    a.append([train[feature].isna().sum(), feature])\n",
        "for item in a:\n",
        "    if item[0] == 0 :\n",
        "        pass\n",
        "    else:\n",
        "        b.append(item)\n",
        "count = 0\n",
        "for item in b:\n",
        "    b[count] = item[1]\n",
        "    count+=1"
      ]
    },
    {
      "cell_type": "code",
      "source": [
        "train[\"date_time\"] = pd.to_datetime(train[\"date_time\"])\n",
        "train[\"year\"] = train[\"date_time\"].dt.year\n",
        "train[\"month\"] = train[\"date_time\"].dt.month"
      ],
      "metadata": {
        "id": "dag1LcyppiUg"
      },
      "execution_count": null,
      "outputs": []
    },
    {
      "cell_type": "code",
      "execution_count": null,
      "metadata": {
        "id": "d_mtdng1cReO"
      },
      "outputs": [],
      "source": [
        "for item in b:\n",
        "    train[item].fillna(0,inplace=True)"
      ]
    },
    {
      "cell_type": "code",
      "execution_count": null,
      "metadata": {
        "id": "VGUBdA_GZnNW"
      },
      "outputs": [],
      "source": [
        "train['prop_review_score'].fillna(3, inplace=True)\n",
        "train['prop_review_score'][train['prop_review_score']==0]=2.5\n",
        "\n",
        "train[\"prop_location_score2\"].fillna(0, inplace=True)\n",
        "\n",
        "avg_srch_score = train[\"srch_query_affinity_score\"].mean()\n",
        "train[\"srch_query_affinity_score\"].fillna(avg_srch_score, inplace=True)\n",
        "\n",
        "train[\"orig_destination_distance\"].fillna(1509,inplace=True)\n",
        "\n",
        "train[\"visitor_hist_adr_usd\"].fillna(0, inplace=True)\n",
        "\n",
        "train['visitor_hist_starrating_bool'] = pd.notnull(train['visitor_hist_starrating'])\n",
        "\n",
        "## add feature: comp_rate_sum\n",
        "for i in range(1,9):\n",
        "    train['comp'+str(i)+'_rate'].fillna(0, inplace=True)\n",
        "train['comp_rate_sum'] = train['comp1_rate']\n",
        "for i in range(2,9):\n",
        "    train['comp_rate_sum'] += train['comp'+str(i)+'_rate']\n",
        "\n",
        "## add feature: comp_rate_sum\n",
        "for i in range(1,9):\n",
        "    train['comp'+str(i)+'_inv'].fillna(0, inplace=True)\n",
        "    train['comp'+str(i)+'_inv'][train['comp'+str(i)+'_inv']==1] = 10\n",
        "    train['comp'+str(i)+'_inv'][train['comp'+str(i)+'_inv']==-1] = 1\n",
        "    train['comp'+str(i)+'_inv'][train['comp'+str(i)+'_inv']==0] = -1\n",
        "    train['comp'+str(i)+'_inv'][train['comp'+str(i)+'_inv']==10] = 0\n",
        "train['comp_inv_sum'] = train['comp1_inv']\n",
        "for i in range(2,9):\n",
        "    train['comp_inv_sum'] += train['comp'+str(i)+'_inv']"
      ]
    },
    {
      "cell_type": "code",
      "source": [
        "def counter(row):\n",
        "  counter=0\n",
        "  for i in range(1,9):\n",
        "    if row['comp'+str(i)+'_inv']==0 and row['comp'+str(i)+'_rate_percent_diff']<1:\n",
        "      counter+=1\n",
        "  return counter\n",
        "#train['count_better'] = train.apply (lambda row: counter(row), axis=1)"
      ],
      "metadata": {
        "id": "7Jp-LMzRyjlJ"
      },
      "execution_count": null,
      "outputs": []
    },
    {
      "cell_type": "markdown",
      "metadata": {
        "id": "2M3ypLOAUhYg"
      },
      "source": [
        "Initialise model"
      ]
    },
    {
      "cell_type": "code",
      "execution_count": null,
      "metadata": {
        "id": "HUqaSR5YhACS",
        "colab": {
          "base_uri": "https://localhost:8080/"
        },
        "outputId": "7d21a299-78d5-4398-ad6d-26d40bac2db0"
      },
      "outputs": [
        {
          "output_type": "execute_result",
          "data": {
            "text/plain": [
              "49583"
            ]
          },
          "metadata": {},
          "execution_count": 45
        }
      ],
      "source": [
        "#train and test both from train data \n",
        "x = train[feature_names]\n",
        "y = train[\"booking_bool\"]\n",
        "#x_train, x_test, y_train, y_test = train_test_split(x, y, random_state=42, train_size = .75)"
      ]
    },
    {
      "cell_type": "code",
      "execution_count": null,
      "metadata": {
        "id": "x8VWYU3ju6FW",
        "colab": {
          "base_uri": "https://localhost:8080/"
        },
        "outputId": "64632790-5cd5-4e2b-ff3d-4937a57135b1"
      },
      "outputs": [
        {
          "output_type": "execute_result",
          "data": {
            "text/plain": [
              "{'bootstrap': [True, False],\n",
              " 'max_depth': [10, 20, 30, 40, 50, 60, 70, 80, 90, 100, 110, None],\n",
              " 'max_features': ['log2', 'sqrt'],\n",
              " 'min_samples_leaf': [1, 2, 4],\n",
              " 'min_samples_split': [2, 5, 10],\n",
              " 'n_estimators': [90, 107, 125, 143, 161, 178, 196, 214, 232, 250]}"
            ]
          },
          "metadata": {},
          "execution_count": 3
        }
      ],
      "source": [
        "rf = RandomForestClassifier(n_estimators=10, max_depth=None, min_samples_split=1.0, random_state=42)\n",
        "\n",
        "#initialise grid\n",
        "n_estimators = [int(x) for x in np.linspace(start = 90, stop = 250, num = 10)]\n",
        "max_features = ['log2', 'sqrt']\n",
        "max_depth = [int(x) for x in np.linspace(10, 110, num = 11)]\n",
        "max_depth.append(None)\n",
        "min_samples_split = [2, 5, 10]\n",
        "min_samples_leaf = [1, 2, 4]\n",
        "bootstrap = [True, False]\n",
        "random_grid = {'n_estimators': n_estimators,\n",
        "               'max_features': max_features,\n",
        "               'max_depth': max_depth,\n",
        "               'min_samples_split': min_samples_split,\n",
        "               'min_samples_leaf': min_samples_leaf,\n",
        "               'bootstrap': bootstrap}\n",
        "random_grid\n",
        "{n_estimators=150, min_samples_leaf=1,min_samples_split=10,  n_jobs=-1, max_features='sqrt', max_depth=40}"
      ]
    },
    {
      "cell_type": "code",
      "execution_count": null,
      "metadata": {
        "id": "I3_WgJg1vFEw",
        "colab": {
          "base_uri": "https://localhost:8080/",
          "height": 364
        },
        "outputId": "c3eae20f-bbff-4622-a507-fc0dfb6debca"
      },
      "outputs": [
        {
          "output_type": "stream",
          "name": "stdout",
          "text": [
            "Fitting 3 folds for each of 100 candidates, totalling 300 fits\n"
          ]
        },
        {
          "output_type": "error",
          "ename": "KeyboardInterrupt",
          "evalue": "ignored",
          "traceback": [
            "\u001b[0;31m---------------------------------------------------------------------------\u001b[0m",
            "\u001b[0;31mKeyboardInterrupt\u001b[0m                         Traceback (most recent call last)",
            "\u001b[0;32m<ipython-input-43-e5929394e71f>\u001b[0m in \u001b[0;36m<module>\u001b[0;34m()\u001b[0m\n\u001b[1;32m      1\u001b[0m \u001b[0mrf_random\u001b[0m \u001b[0;34m=\u001b[0m \u001b[0mRandomizedSearchCV\u001b[0m\u001b[0;34m(\u001b[0m\u001b[0mestimator\u001b[0m \u001b[0;34m=\u001b[0m \u001b[0mrf\u001b[0m\u001b[0;34m,\u001b[0m \u001b[0mparam_distributions\u001b[0m \u001b[0;34m=\u001b[0m \u001b[0mrandom_grid\u001b[0m\u001b[0;34m,\u001b[0m \u001b[0mn_iter\u001b[0m \u001b[0;34m=\u001b[0m \u001b[0;36m100\u001b[0m\u001b[0;34m,\u001b[0m \u001b[0mcv\u001b[0m \u001b[0;34m=\u001b[0m \u001b[0;36m3\u001b[0m\u001b[0;34m,\u001b[0m \u001b[0mverbose\u001b[0m\u001b[0;34m=\u001b[0m\u001b[0;36m2\u001b[0m\u001b[0;34m,\u001b[0m \u001b[0mrandom_state\u001b[0m\u001b[0;34m=\u001b[0m\u001b[0;36m42\u001b[0m\u001b[0;34m,\u001b[0m \u001b[0mn_jobs\u001b[0m \u001b[0;34m=\u001b[0m \u001b[0;34m-\u001b[0m\u001b[0;36m1\u001b[0m\u001b[0;34m)\u001b[0m\u001b[0;34m\u001b[0m\u001b[0;34m\u001b[0m\u001b[0m\n\u001b[0;32m----> 2\u001b[0;31m \u001b[0mrf_random\u001b[0m\u001b[0;34m.\u001b[0m\u001b[0mfit\u001b[0m\u001b[0;34m(\u001b[0m\u001b[0mx_train\u001b[0m\u001b[0;34m,\u001b[0m \u001b[0my_train\u001b[0m\u001b[0;34m)\u001b[0m\u001b[0;34m\u001b[0m\u001b[0;34m\u001b[0m\u001b[0m\n\u001b[0m\u001b[1;32m      3\u001b[0m \u001b[0mrf_random\u001b[0m\u001b[0;34m.\u001b[0m\u001b[0mbest_params_\u001b[0m\u001b[0;34m\u001b[0m\u001b[0;34m\u001b[0m\u001b[0m\n",
            "\u001b[0;32m/usr/local/lib/python3.7/dist-packages/sklearn/model_selection/_search.py\u001b[0m in \u001b[0;36mfit\u001b[0;34m(self, X, y, groups, **fit_params)\u001b[0m\n\u001b[1;32m    889\u001b[0m                 \u001b[0;32mreturn\u001b[0m \u001b[0mresults\u001b[0m\u001b[0;34m\u001b[0m\u001b[0;34m\u001b[0m\u001b[0m\n\u001b[1;32m    890\u001b[0m \u001b[0;34m\u001b[0m\u001b[0m\n\u001b[0;32m--> 891\u001b[0;31m             \u001b[0mself\u001b[0m\u001b[0;34m.\u001b[0m\u001b[0m_run_search\u001b[0m\u001b[0;34m(\u001b[0m\u001b[0mevaluate_candidates\u001b[0m\u001b[0;34m)\u001b[0m\u001b[0;34m\u001b[0m\u001b[0;34m\u001b[0m\u001b[0m\n\u001b[0m\u001b[1;32m    892\u001b[0m \u001b[0;34m\u001b[0m\u001b[0m\n\u001b[1;32m    893\u001b[0m             \u001b[0;31m# multimetric is determined here because in the case of a callable\u001b[0m\u001b[0;34m\u001b[0m\u001b[0;34m\u001b[0m\u001b[0;34m\u001b[0m\u001b[0m\n",
            "\u001b[0;32m/usr/local/lib/python3.7/dist-packages/sklearn/model_selection/_search.py\u001b[0m in \u001b[0;36m_run_search\u001b[0;34m(self, evaluate_candidates)\u001b[0m\n\u001b[1;32m   1766\u001b[0m         evaluate_candidates(\n\u001b[1;32m   1767\u001b[0m             ParameterSampler(\n\u001b[0;32m-> 1768\u001b[0;31m                 \u001b[0mself\u001b[0m\u001b[0;34m.\u001b[0m\u001b[0mparam_distributions\u001b[0m\u001b[0;34m,\u001b[0m \u001b[0mself\u001b[0m\u001b[0;34m.\u001b[0m\u001b[0mn_iter\u001b[0m\u001b[0;34m,\u001b[0m \u001b[0mrandom_state\u001b[0m\u001b[0;34m=\u001b[0m\u001b[0mself\u001b[0m\u001b[0;34m.\u001b[0m\u001b[0mrandom_state\u001b[0m\u001b[0;34m\u001b[0m\u001b[0;34m\u001b[0m\u001b[0m\n\u001b[0m\u001b[1;32m   1769\u001b[0m             )\n\u001b[1;32m   1770\u001b[0m         )\n",
            "\u001b[0;32m/usr/local/lib/python3.7/dist-packages/sklearn/model_selection/_search.py\u001b[0m in \u001b[0;36mevaluate_candidates\u001b[0;34m(candidate_params, cv, more_results)\u001b[0m\n\u001b[1;32m    849\u001b[0m                     )\n\u001b[1;32m    850\u001b[0m                     for (cand_idx, parameters), (split_idx, (train, test)) in product(\n\u001b[0;32m--> 851\u001b[0;31m                         \u001b[0menumerate\u001b[0m\u001b[0;34m(\u001b[0m\u001b[0mcandidate_params\u001b[0m\u001b[0;34m)\u001b[0m\u001b[0;34m,\u001b[0m \u001b[0menumerate\u001b[0m\u001b[0;34m(\u001b[0m\u001b[0mcv\u001b[0m\u001b[0;34m.\u001b[0m\u001b[0msplit\u001b[0m\u001b[0;34m(\u001b[0m\u001b[0mX\u001b[0m\u001b[0;34m,\u001b[0m \u001b[0my\u001b[0m\u001b[0;34m,\u001b[0m \u001b[0mgroups\u001b[0m\u001b[0;34m)\u001b[0m\u001b[0;34m)\u001b[0m\u001b[0;34m\u001b[0m\u001b[0;34m\u001b[0m\u001b[0m\n\u001b[0m\u001b[1;32m    852\u001b[0m                     )\n\u001b[1;32m    853\u001b[0m                 )\n",
            "\u001b[0;32m/usr/local/lib/python3.7/dist-packages/joblib/parallel.py\u001b[0m in \u001b[0;36m__call__\u001b[0;34m(self, iterable)\u001b[0m\n\u001b[1;32m   1054\u001b[0m \u001b[0;34m\u001b[0m\u001b[0m\n\u001b[1;32m   1055\u001b[0m             \u001b[0;32mwith\u001b[0m \u001b[0mself\u001b[0m\u001b[0;34m.\u001b[0m\u001b[0m_backend\u001b[0m\u001b[0;34m.\u001b[0m\u001b[0mretrieval_context\u001b[0m\u001b[0;34m(\u001b[0m\u001b[0;34m)\u001b[0m\u001b[0;34m:\u001b[0m\u001b[0;34m\u001b[0m\u001b[0;34m\u001b[0m\u001b[0m\n\u001b[0;32m-> 1056\u001b[0;31m                 \u001b[0mself\u001b[0m\u001b[0;34m.\u001b[0m\u001b[0mretrieve\u001b[0m\u001b[0;34m(\u001b[0m\u001b[0;34m)\u001b[0m\u001b[0;34m\u001b[0m\u001b[0;34m\u001b[0m\u001b[0m\n\u001b[0m\u001b[1;32m   1057\u001b[0m             \u001b[0;31m# Make sure that we get a last message telling us we are done\u001b[0m\u001b[0;34m\u001b[0m\u001b[0;34m\u001b[0m\u001b[0;34m\u001b[0m\u001b[0m\n\u001b[1;32m   1058\u001b[0m             \u001b[0melapsed_time\u001b[0m \u001b[0;34m=\u001b[0m \u001b[0mtime\u001b[0m\u001b[0;34m.\u001b[0m\u001b[0mtime\u001b[0m\u001b[0;34m(\u001b[0m\u001b[0;34m)\u001b[0m \u001b[0;34m-\u001b[0m \u001b[0mself\u001b[0m\u001b[0;34m.\u001b[0m\u001b[0m_start_time\u001b[0m\u001b[0;34m\u001b[0m\u001b[0;34m\u001b[0m\u001b[0m\n",
            "\u001b[0;32m/usr/local/lib/python3.7/dist-packages/joblib/parallel.py\u001b[0m in \u001b[0;36mretrieve\u001b[0;34m(self)\u001b[0m\n\u001b[1;32m    933\u001b[0m             \u001b[0;32mtry\u001b[0m\u001b[0;34m:\u001b[0m\u001b[0;34m\u001b[0m\u001b[0;34m\u001b[0m\u001b[0m\n\u001b[1;32m    934\u001b[0m                 \u001b[0;32mif\u001b[0m \u001b[0mgetattr\u001b[0m\u001b[0;34m(\u001b[0m\u001b[0mself\u001b[0m\u001b[0;34m.\u001b[0m\u001b[0m_backend\u001b[0m\u001b[0;34m,\u001b[0m \u001b[0;34m'supports_timeout'\u001b[0m\u001b[0;34m,\u001b[0m \u001b[0;32mFalse\u001b[0m\u001b[0;34m)\u001b[0m\u001b[0;34m:\u001b[0m\u001b[0;34m\u001b[0m\u001b[0;34m\u001b[0m\u001b[0m\n\u001b[0;32m--> 935\u001b[0;31m                     \u001b[0mself\u001b[0m\u001b[0;34m.\u001b[0m\u001b[0m_output\u001b[0m\u001b[0;34m.\u001b[0m\u001b[0mextend\u001b[0m\u001b[0;34m(\u001b[0m\u001b[0mjob\u001b[0m\u001b[0;34m.\u001b[0m\u001b[0mget\u001b[0m\u001b[0;34m(\u001b[0m\u001b[0mtimeout\u001b[0m\u001b[0;34m=\u001b[0m\u001b[0mself\u001b[0m\u001b[0;34m.\u001b[0m\u001b[0mtimeout\u001b[0m\u001b[0;34m)\u001b[0m\u001b[0;34m)\u001b[0m\u001b[0;34m\u001b[0m\u001b[0;34m\u001b[0m\u001b[0m\n\u001b[0m\u001b[1;32m    936\u001b[0m                 \u001b[0;32melse\u001b[0m\u001b[0;34m:\u001b[0m\u001b[0;34m\u001b[0m\u001b[0;34m\u001b[0m\u001b[0m\n\u001b[1;32m    937\u001b[0m                     \u001b[0mself\u001b[0m\u001b[0;34m.\u001b[0m\u001b[0m_output\u001b[0m\u001b[0;34m.\u001b[0m\u001b[0mextend\u001b[0m\u001b[0;34m(\u001b[0m\u001b[0mjob\u001b[0m\u001b[0;34m.\u001b[0m\u001b[0mget\u001b[0m\u001b[0;34m(\u001b[0m\u001b[0;34m)\u001b[0m\u001b[0;34m)\u001b[0m\u001b[0;34m\u001b[0m\u001b[0;34m\u001b[0m\u001b[0m\n",
            "\u001b[0;32m/usr/local/lib/python3.7/dist-packages/joblib/_parallel_backends.py\u001b[0m in \u001b[0;36mwrap_future_result\u001b[0;34m(future, timeout)\u001b[0m\n\u001b[1;32m    540\u001b[0m         AsyncResults.get from multiprocessing.\"\"\"\n\u001b[1;32m    541\u001b[0m         \u001b[0;32mtry\u001b[0m\u001b[0;34m:\u001b[0m\u001b[0;34m\u001b[0m\u001b[0;34m\u001b[0m\u001b[0m\n\u001b[0;32m--> 542\u001b[0;31m             \u001b[0;32mreturn\u001b[0m \u001b[0mfuture\u001b[0m\u001b[0;34m.\u001b[0m\u001b[0mresult\u001b[0m\u001b[0;34m(\u001b[0m\u001b[0mtimeout\u001b[0m\u001b[0;34m=\u001b[0m\u001b[0mtimeout\u001b[0m\u001b[0;34m)\u001b[0m\u001b[0;34m\u001b[0m\u001b[0;34m\u001b[0m\u001b[0m\n\u001b[0m\u001b[1;32m    543\u001b[0m         \u001b[0;32mexcept\u001b[0m \u001b[0mCfTimeoutError\u001b[0m \u001b[0;32mas\u001b[0m \u001b[0me\u001b[0m\u001b[0;34m:\u001b[0m\u001b[0;34m\u001b[0m\u001b[0;34m\u001b[0m\u001b[0m\n\u001b[1;32m    544\u001b[0m             \u001b[0;32mraise\u001b[0m \u001b[0mTimeoutError\u001b[0m \u001b[0;32mfrom\u001b[0m \u001b[0me\u001b[0m\u001b[0;34m\u001b[0m\u001b[0;34m\u001b[0m\u001b[0m\n",
            "\u001b[0;32m/usr/lib/python3.7/concurrent/futures/_base.py\u001b[0m in \u001b[0;36mresult\u001b[0;34m(self, timeout)\u001b[0m\n\u001b[1;32m    428\u001b[0m                 \u001b[0;32mreturn\u001b[0m \u001b[0mself\u001b[0m\u001b[0;34m.\u001b[0m\u001b[0m__get_result\u001b[0m\u001b[0;34m(\u001b[0m\u001b[0;34m)\u001b[0m\u001b[0;34m\u001b[0m\u001b[0;34m\u001b[0m\u001b[0m\n\u001b[1;32m    429\u001b[0m \u001b[0;34m\u001b[0m\u001b[0m\n\u001b[0;32m--> 430\u001b[0;31m             \u001b[0mself\u001b[0m\u001b[0;34m.\u001b[0m\u001b[0m_condition\u001b[0m\u001b[0;34m.\u001b[0m\u001b[0mwait\u001b[0m\u001b[0;34m(\u001b[0m\u001b[0mtimeout\u001b[0m\u001b[0;34m)\u001b[0m\u001b[0;34m\u001b[0m\u001b[0;34m\u001b[0m\u001b[0m\n\u001b[0m\u001b[1;32m    431\u001b[0m \u001b[0;34m\u001b[0m\u001b[0m\n\u001b[1;32m    432\u001b[0m             \u001b[0;32mif\u001b[0m \u001b[0mself\u001b[0m\u001b[0;34m.\u001b[0m\u001b[0m_state\u001b[0m \u001b[0;32min\u001b[0m \u001b[0;34m[\u001b[0m\u001b[0mCANCELLED\u001b[0m\u001b[0;34m,\u001b[0m \u001b[0mCANCELLED_AND_NOTIFIED\u001b[0m\u001b[0;34m]\u001b[0m\u001b[0;34m:\u001b[0m\u001b[0;34m\u001b[0m\u001b[0;34m\u001b[0m\u001b[0m\n",
            "\u001b[0;32m/usr/lib/python3.7/threading.py\u001b[0m in \u001b[0;36mwait\u001b[0;34m(self, timeout)\u001b[0m\n\u001b[1;32m    294\u001b[0m         \u001b[0;32mtry\u001b[0m\u001b[0;34m:\u001b[0m    \u001b[0;31m# restore state no matter what (e.g., KeyboardInterrupt)\u001b[0m\u001b[0;34m\u001b[0m\u001b[0;34m\u001b[0m\u001b[0m\n\u001b[1;32m    295\u001b[0m             \u001b[0;32mif\u001b[0m \u001b[0mtimeout\u001b[0m \u001b[0;32mis\u001b[0m \u001b[0;32mNone\u001b[0m\u001b[0;34m:\u001b[0m\u001b[0;34m\u001b[0m\u001b[0;34m\u001b[0m\u001b[0m\n\u001b[0;32m--> 296\u001b[0;31m                 \u001b[0mwaiter\u001b[0m\u001b[0;34m.\u001b[0m\u001b[0macquire\u001b[0m\u001b[0;34m(\u001b[0m\u001b[0;34m)\u001b[0m\u001b[0;34m\u001b[0m\u001b[0;34m\u001b[0m\u001b[0m\n\u001b[0m\u001b[1;32m    297\u001b[0m                 \u001b[0mgotit\u001b[0m \u001b[0;34m=\u001b[0m \u001b[0;32mTrue\u001b[0m\u001b[0;34m\u001b[0m\u001b[0;34m\u001b[0m\u001b[0m\n\u001b[1;32m    298\u001b[0m             \u001b[0;32melse\u001b[0m\u001b[0;34m:\u001b[0m\u001b[0;34m\u001b[0m\u001b[0;34m\u001b[0m\u001b[0m\n",
            "\u001b[0;31mKeyboardInterrupt\u001b[0m: "
          ]
        }
      ],
      "source": [
        "rf_random = RandomizedSearchCV(estimator = rf, param_distributions = random_grid, n_iter = 100, cv = 3, verbose=2, random_state=42, n_jobs = -1)#!!!n_jobs=-1\n",
        "rf_random.fit(x_train, y_train)\n",
        "rf_random.best_params_"
      ]
    },
    {
      "cell_type": "markdown",
      "metadata": {
        "id": "0q6eqQNAvLKN"
      },
      "source": [
        "Evaluate Random Search"
      ]
    },
    {
      "cell_type": "code",
      "execution_count": null,
      "metadata": {
        "id": "7_9UanMlvHIf",
        "colab": {
          "base_uri": "https://localhost:8080/"
        },
        "outputId": "60fbea62-494a-43a2-8da5-2cb82c9b0b2e"
      },
      "outputs": [
        {
          "output_type": "stream",
          "name": "stdout",
          "text": [
            "Model Performance\n",
            "Average Error: 0.0581 degrees.\n",
            "Accuracy = -inf%.\n"
          ]
        }
      ],
      "source": [
        "def evaluate(model, test_features, test_labels):\n",
        "    predictions = model.predict(test_features)\n",
        "    errors = abs(predictions - test_labels)\n",
        "    mape = 100 * np.mean(errors / test_labels)\n",
        "    accuracy = 100 - mape\n",
        "    print('Model Performance')\n",
        "    print('Average Error: {:0.4f} degrees.'.format(np.mean(errors)))\n",
        "    print('Accuracy = {:0.2f}%.'.format(accuracy))\n",
        "    \n",
        "    return accuracy\n",
        "\n",
        "base_model = RandomForestRegressor(n_estimators = 10, random_state = 42)\n",
        "base_model.fit(x_train, y_train)\n",
        "base_accuracy = evaluate(base_model, x_test, y_test)"
      ]
    },
    {
      "cell_type": "code",
      "execution_count": null,
      "metadata": {
        "id": "7EeeJx5wvSjd"
      },
      "outputs": [],
      "source": [
        "best_random = rf_random.best_estimator_\n",
        "random_accuracy = evaluate(best_random, x_test, y_test)\n",
        "print('Improvement of {:0.2f}%.'.format( 100 * (random_accuracy - base_accuracy) / base_accuracy))"
      ]
    },
    {
      "cell_type": "markdown",
      "metadata": {
        "id": "A9ajNjuIivJx"
      },
      "source": [
        "Outputs in Kaggle format"
      ]
    },
    {
      "cell_type": "code",
      "execution_count": null,
      "metadata": {
        "id": "rW-3qu_Zi6CY"
      },
      "outputs": [],
      "source": [
        "#gradient_boost_cfdeal with NAs in hotels's infor\n",
        "\n",
        "test['prop_review_score'].fillna(3, inplace=True)\n",
        "test['prop_review_score'][test['prop_review_score']==0]=2.5\n",
        "\n",
        "test[\"prop_location_score2\"].fillna(0, inplace=True)\n",
        "\n",
        "avg_srch_score = test[\"srch_query_affinity_score\"].mean()\n",
        "test[\"srch_query_affinity_score\"].fillna(avg_srch_score, inplace=True)\n",
        "\n",
        "test[\"orig_destination_distance\"].fillna(1509,inplace=True)\n",
        "\n",
        "test[\"visitor_hist_adr_usd\"].fillna(0, inplace=True)\n",
        "\n",
        "test['visitor_hist_starrating_bool'] = pd.notnull(test['visitor_hist_starrating'])\n",
        "\n",
        "## add feature: comp_rate_sum\n",
        "for i in range(1,9):\n",
        "    test['comp'+str(i)+'_rate'].fillna(0, inplace=True)\n",
        "test['comp_rate_sum'] = test['comp1_rate']\n",
        "for i in range(2,9):\n",
        "    test['comp_rate_sum'] += test['comp'+str(i)+'_rate']\n",
        "\n",
        "## add feature: comp_rate_sum\n",
        "for i in range(1,9):\n",
        "    test['comp'+str(i)+'_inv'].fillna(0, inplace=True)\n",
        "    test['comp'+str(i)+'_inv'][test['comp'+str(i)+'_inv']==1] = 10\n",
        "    test['comp'+str(i)+'_inv'][test['comp'+str(i)+'_inv']==-1] = 1\n",
        "    test['comp'+str(i)+'_inv'][test['comp'+str(i)+'_inv']==0] = -1\n",
        "    test['comp'+str(i)+'_inv'][test['comp'+str(i)+'_inv']==10] = 0\n",
        "test['comp_inv_sum'] = test['comp1_inv']\n",
        "for i in range(2,9):\n",
        "    test['comp_inv_sum'] += test['comp'+str(i)+'_inv']"
      ]
    },
    {
      "cell_type": "code",
      "execution_count": null,
      "metadata": {
        "id": "XdTqdt6YjdtK"
      },
      "outputs": [],
      "source": [
        "a = []\n",
        "b = []\n",
        "for feature in feature_names:\n",
        "    a.append([test[feature].isna().sum(), feature])\n",
        "for item in a:\n",
        "    if item[0] == 0 :\n",
        "        pass\n",
        "    else:\n",
        "        b.append(item)\n",
        "count = 0\n",
        "for item in b:\n",
        "    b[count] = item[1]\n",
        "    count+=1\n",
        "b\n",
        "\n",
        "for item in b:\n",
        "    test[item].fillna(0,inplace=True)"
      ]
    },
    {
      "cell_type": "markdown",
      "metadata": {
        "id": "xCqN7KlAkpPo"
      },
      "source": [
        "Results accuracy"
      ]
    },
    {
      "cell_type": "code",
      "execution_count": null,
      "metadata": {
        "id": "ifmi0sHxjf1d"
      },
      "outputs": [],
      "source": [
        "test = test.fillna(0)"
      ]
    },
    {
      "cell_type": "code",
      "execution_count": null,
      "metadata": {
        "id": "ZTToP2W0jlDr"
      },
      "outputs": [],
      "source": [
        "#test data - UNLABELED\n",
        "data = test[feature_names]\n",
        "data['visitor_hist_starrating_step'] = [0 for i in range(4959183)]\n",
        "data['visitor_hist_starrating_na'] = [0 for i in range(4959183)]"
      ]
    },
    {
      "cell_type": "code",
      "execution_count": null,
      "metadata": {
        "id": "NCFgifEcjum0"
      },
      "outputs": [],
      "source": [
        "y_hat = rf_random.predict(x_test)\n",
        "df(y_hat).describe()"
      ]
    },
    {
      "cell_type": "code",
      "execution_count": null,
      "metadata": {
        "id": "dc8_hRH5lIjx"
      },
      "outputs": [],
      "source": [
        "y_hat = rf_random.predict_proba(x_test)"
      ]
    },
    {
      "cell_type": "markdown",
      "metadata": {
        "id": "L1_HMDSRlc1-"
      },
      "source": [
        "Saving results"
      ]
    },
    {
      "cell_type": "code",
      "execution_count": null,
      "metadata": {
        "id": "1N8FUenllLWl"
      },
      "outputs": [],
      "source": [
        "sub = df({'srch_id':test['srch_id'],'prop_id':test['prop_id'], 'prediction': df(y_hat)[0]})\n",
        "sub = sub.sort_values(['srch_id','prediction'],ascending = [True,False])\n",
        "sub.drop(['prediction'],axis =1, inplace= True)\n",
        "sub.tail()\n"
      ]
    },
    {
      "cell_type": "code",
      "execution_count": null,
      "metadata": {
        "id": "W1FoNOl1le7J"
      },
      "outputs": [],
      "source": [
        "sub.to_csv('submission_sample.csv', index = False)"
      ]
    },
    {
      "cell_type": "code",
      "execution_count": null,
      "metadata": {
        "id": "8crC_pO-lhke"
      },
      "outputs": [],
      "source": [
        "sample = pd.read_csv('submission_sample.csv')\n",
        "sample"
      ]
    }
  ],
  "metadata": {
    "colab": {
      "name": "Asg2.ipynb",
      "provenance": []
    },
    "kernelspec": {
      "display_name": "Python 3",
      "name": "python3"
    },
    "language_info": {
      "name": "python"
    }
  },
  "nbformat": 4,
  "nbformat_minor": 0
}